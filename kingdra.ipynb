{
 "cells": [
  {
   "cell_type": "markdown",
   "id": "fa9ebc94",
   "metadata": {},
   "source": [
    "Download the weights file from here:\n",
    "\n",
    "https://connecthkuhk-my.sharepoint.com/:u:/g/personal/u3590325_connect_hku_hk/Ea-GkBlehDdDkyDE8AFhLf4BynIOc4eJDh1ed1SByXYmeg?e=5dzCXK"
   ]
  },
  {
   "cell_type": "code",
   "execution_count": null,
   "id": "d2658bc1-f7e3-475a-92ef-49409dd37983",
   "metadata": {},
   "outputs": [],
   "source": [
    "from matplotlib import pyplot as plt\n",
    "\n",
    "import tensorflow.keras.datasets.mnist as input_data\n",
    "from kingdra_cluster.kingdra_cluster import KingdraCluster\n",
    "from kingdra_cluster.unsup_metrics import ACC\n",
    "\n",
    "(x_train, y_train), (x_test, y_test) = input_data.load_data()\n",
    "\n",
    "x_train = x_train.reshape((-1 , 28*28 ))\n",
    "x_test = x_test.reshape((-1 , 28*28 ))\n",
    "\n",
    "model = KingdraCluster( n_iter=5 )\n",
    "model.load_weights('./model.trained')"
   ]
  },
  {
   "cell_type": "code",
   "execution_count": 75,
   "id": "66be2f6b-9c3f-4d81-9146-4b5fcdc350c2",
   "metadata": {},
   "outputs": [
    {
     "data": {
      "image/png": "[encoded data removed]",
      "text/plain": [
       "<Figure size 432x288 with 1 Axes>"
      ]
     },
     "metadata": {
      "needs_background": "light"
     },
     "output_type": "display_data"
    }
   ],
   "source": [
    "# pick a sample to plot\n",
    "image = x_test[1].reshape((28, 28))\n",
    "# plot the sample\n",
    "plt.imshow(image, cmap='gray_r')\n",
    "plt.show()"
   ]
  },
  {
   "cell_type": "code",
   "execution_count": 76,
   "id": "a7120472-9b8e-43df-b621-f8ffa800efa3",
   "metadata": {},
   "outputs": [
    {
     "data": {
      "text/plain": [
       "array([4])"
      ]
     },
     "execution_count": 76,
     "metadata": {},
     "output_type": "execute_result"
    }
   ],
   "source": [
    "model.predict(image.reshape((-1, 28**2)))"
   ]
  },
  {
   "cell_type": "code",
   "execution_count": 77,
   "id": "fb799be8-1f79-4a29-bffd-4ac9a51d7da2",
   "metadata": {},
   "outputs": [
    {
     "data": {
      "text/plain": [
       "array([4, 9, 3, ..., 8, 0, 2])"
      ]
     },
     "execution_count": 77,
     "metadata": {},
     "output_type": "execute_result"
    }
   ],
   "source": [
    "model.predict(x_train.reshape((-1 , 28*28 )))"
   ]
  }
 ],
 "metadata": {
  "kernelspec": {
   "display_name": "Python 3 (ipykernel)",
   "language": "python",
   "name": "python3"
  },
  "language_info": {
   "codemirror_mode": {
    "name": "ipython",
    "version": 3
   },
   "file_extension": ".py",
   "mimetype": "text/x-python",
   "name": "python",
   "nbconvert_exporter": "python",
   "pygments_lexer": "ipython3",
   "version": "3.9.12"
  }
 },
 "nbformat": 4,
 "nbformat_minor": 5
}
